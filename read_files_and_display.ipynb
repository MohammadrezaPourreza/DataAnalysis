{
  "nbformat": 4,
  "nbformat_minor": 0,
  "metadata": {
    "colab": {
      "name": "Data_Analysis.ipynb",
      "provenance": [],
      "authorship_tag": "ABX9TyN5qCkRlJerKVx5Sy/LXKfI",
      "include_colab_link": true
    },
    "kernelspec": {
      "name": "python3",
      "display_name": "Python 3"
    },
    "language_info": {
      "name": "python"
    }
  },
  "cells": [
    {
      "cell_type": "markdown",
      "metadata": {
        "id": "view-in-github",
        "colab_type": "text"
      },
      "source": [
        "<a href=\"https://colab.research.google.com/github/MohammadrezaPourreza/DataAnalysis/blob/main/read_files_and_display.ipynb\" target=\"_parent\"><img src=\"https://colab.research.google.com/assets/colab-badge.svg\" alt=\"Open In Colab\"/></a>"
      ]
    },
    {
      "cell_type": "markdown",
      "source": [
        "download the stackoverflow annual seurvey dataset"
      ],
      "metadata": {
        "id": "byJg4cB2eSuG"
      }
    },
    {
      "cell_type": "code",
      "execution_count": null,
      "metadata": {
        "id": "ZdQ9hO-1QXCG"
      },
      "outputs": [],
      "source": [
        "!wget https://info.stackoverflowsolutions.com/rs/719-EMH-566/images/stack-overflow-developer-survey-2021.zip\n",
        "!unzip /content/stack-overflow-developer-survey-2021.zip"
      ]
    },
    {
      "cell_type": "markdown",
      "source": [
        "import pandas"
      ],
      "metadata": {
        "id": "1fXQxboMgFl8"
      }
    },
    {
      "cell_type": "code",
      "source": [
        "import pandas as pd"
      ],
      "metadata": {
        "id": "Xl2SBEMLgG1o"
      },
      "execution_count": 3,
      "outputs": []
    },
    {
      "cell_type": "markdown",
      "source": [
        "read the files"
      ],
      "metadata": {
        "id": "tWC7wswOgJRd"
      }
    },
    {
      "cell_type": "code",
      "source": [
        "df = pd.read_csv(\"/content/survey_results_public.csv\")\n",
        "schema_df = pd.read_csv(\"/content/survey_results_schema.csv\") \n"
      ],
      "metadata": {
        "id": "UgW0OGIHgKmI"
      },
      "execution_count": 13,
      "outputs": []
    },
    {
      "cell_type": "markdown",
      "source": [
        "to get the dataframe shape"
      ],
      "metadata": {
        "id": "JKzugv7phciP"
      }
    },
    {
      "cell_type": "code",
      "source": [
        "df.shape"
      ],
      "metadata": {
        "colab": {
          "base_uri": "https://localhost:8080/"
        },
        "id": "Z4rxTP1Ohe3p",
        "outputId": "b7f37b9f-d4e5-4dd2-b974-bd923bb2beb8"
      },
      "execution_count": 5,
      "outputs": [
        {
          "output_type": "execute_result",
          "data": {
            "text/plain": [
              "(83439, 48)"
            ]
          },
          "metadata": {},
          "execution_count": 5
        }
      ]
    },
    {
      "cell_type": "markdown",
      "source": [
        "get more information about our data by using info() method , object dtype is most of the times equal to string"
      ],
      "metadata": {
        "id": "_Uxmy7OtiExK"
      }
    },
    {
      "cell_type": "code",
      "source": [
        "df.info()"
      ],
      "metadata": {
        "colab": {
          "base_uri": "https://localhost:8080/"
        },
        "id": "drzm4FpuiNui",
        "outputId": "be123905-6624-489b-abeb-a654a251af43"
      },
      "execution_count": 6,
      "outputs": [
        {
          "output_type": "stream",
          "name": "stdout",
          "text": [
            "<class 'pandas.core.frame.DataFrame'>\n",
            "RangeIndex: 83439 entries, 0 to 83438\n",
            "Data columns (total 48 columns):\n",
            " #   Column                        Non-Null Count  Dtype  \n",
            "---  ------                        --------------  -----  \n",
            " 0   ResponseId                    83439 non-null  int64  \n",
            " 1   MainBranch                    83439 non-null  object \n",
            " 2   Employment                    83323 non-null  object \n",
            " 3   Country                       83439 non-null  object \n",
            " 4   US_State                      14920 non-null  object \n",
            " 5   UK_Country                    4418 non-null   object \n",
            " 6   EdLevel                       83126 non-null  object \n",
            " 7   Age1stCode                    83243 non-null  object \n",
            " 8   LearnCode                     82963 non-null  object \n",
            " 9   YearsCode                     81641 non-null  object \n",
            " 10  YearsCodePro                  61216 non-null  object \n",
            " 11  DevType                       66484 non-null  object \n",
            " 12  OrgSize                       60726 non-null  object \n",
            " 13  Currency                      61080 non-null  object \n",
            " 14  CompTotal                     47183 non-null  float64\n",
            " 15  CompFreq                      52150 non-null  object \n",
            " 16  LanguageHaveWorkedWith        82357 non-null  object \n",
            " 17  LanguageWantToWorkWith        76821 non-null  object \n",
            " 18  DatabaseHaveWorkedWith        69546 non-null  object \n",
            " 19  DatabaseWantToWorkWith        58299 non-null  object \n",
            " 20  PlatformHaveWorkedWith        52135 non-null  object \n",
            " 21  PlatformWantToWorkWith        41619 non-null  object \n",
            " 22  WebframeHaveWorkedWith        61707 non-null  object \n",
            " 23  WebframeWantToWorkWith        52095 non-null  object \n",
            " 24  MiscTechHaveWorkedWith        47055 non-null  object \n",
            " 25  MiscTechWantToWorkWith        38021 non-null  object \n",
            " 26  ToolsTechHaveWorkedWith       72537 non-null  object \n",
            " 27  ToolsTechWantToWorkWith       65480 non-null  object \n",
            " 28  NEWCollabToolsHaveWorkedWith  81234 non-null  object \n",
            " 29  NEWCollabToolsWantToWorkWith  73022 non-null  object \n",
            " 30  OpSys                         83294 non-null  object \n",
            " 31  NEWStuck                      83052 non-null  object \n",
            " 32  NEWSOSites                    83171 non-null  object \n",
            " 33  SOVisitFreq                   82413 non-null  object \n",
            " 34  SOAccount                     82525 non-null  object \n",
            " 35  SOPartFreq                    67553 non-null  object \n",
            " 36  SOComm                        82319 non-null  object \n",
            " 37  NEWOtherComms                 82828 non-null  object \n",
            " 38  Age                           82407 non-null  object \n",
            " 39  Gender                        82286 non-null  object \n",
            " 40  Trans                         80678 non-null  object \n",
            " 41  Sexuality                     73366 non-null  object \n",
            " 42  Ethnicity                     79464 non-null  object \n",
            " 43  Accessibility                 77603 non-null  object \n",
            " 44  MentalHealth                  76920 non-null  object \n",
            " 45  SurveyLength                  81711 non-null  object \n",
            " 46  SurveyEase                    81948 non-null  object \n",
            " 47  ConvertedCompYearly           46844 non-null  float64\n",
            "dtypes: float64(2), int64(1), object(45)\n",
            "memory usage: 30.6+ MB\n"
          ]
        }
      ]
    },
    {
      "cell_type": "markdown",
      "source": [
        "to show all the columns by the pandas we should set the max columns. the default value is 20.\n",
        "to show all the rows by the pandas we should set the max rows. the default value is 10."
      ],
      "metadata": {
        "id": "LCRWvJ6Iiuf7"
      }
    },
    {
      "cell_type": "code",
      "source": [
        "pd.set_option('display.max_columns',48)\n",
        "pd.set_option('display.max_rows',48)"
      ],
      "metadata": {
        "id": "RJd1_TB6i26g"
      },
      "execution_count": 12,
      "outputs": []
    },
    {
      "cell_type": "markdown",
      "source": [
        "to see the head or the tail of the dataframe"
      ],
      "metadata": {
        "id": "hg1of9wukZwV"
      }
    },
    {
      "cell_type": "code",
      "source": [
        "df.head(2)\n"
      ],
      "metadata": {
        "colab": {
          "base_uri": "https://localhost:8080/",
          "height": 367
        },
        "id": "o8RqpkovkcrS",
        "outputId": "504f3112-7dce-4238-c660-34585ecb961b"
      },
      "execution_count": 15,
      "outputs": [
        {
          "output_type": "execute_result",
          "data": {
            "text/html": [
              "\n",
              "  <div id=\"df-037d474b-168f-459a-8765-65a68af0dbb0\">\n",
              "    <div class=\"colab-df-container\">\n",
              "      <div>\n",
              "<style scoped>\n",
              "    .dataframe tbody tr th:only-of-type {\n",
              "        vertical-align: middle;\n",
              "    }\n",
              "\n",
              "    .dataframe tbody tr th {\n",
              "        vertical-align: top;\n",
              "    }\n",
              "\n",
              "    .dataframe thead th {\n",
              "        text-align: right;\n",
              "    }\n",
              "</style>\n",
              "<table border=\"1\" class=\"dataframe\">\n",
              "  <thead>\n",
              "    <tr style=\"text-align: right;\">\n",
              "      <th></th>\n",
              "      <th>ResponseId</th>\n",
              "      <th>MainBranch</th>\n",
              "      <th>Employment</th>\n",
              "      <th>Country</th>\n",
              "      <th>US_State</th>\n",
              "      <th>UK_Country</th>\n",
              "      <th>EdLevel</th>\n",
              "      <th>Age1stCode</th>\n",
              "      <th>LearnCode</th>\n",
              "      <th>YearsCode</th>\n",
              "      <th>YearsCodePro</th>\n",
              "      <th>DevType</th>\n",
              "      <th>OrgSize</th>\n",
              "      <th>Currency</th>\n",
              "      <th>CompTotal</th>\n",
              "      <th>CompFreq</th>\n",
              "      <th>LanguageHaveWorkedWith</th>\n",
              "      <th>LanguageWantToWorkWith</th>\n",
              "      <th>DatabaseHaveWorkedWith</th>\n",
              "      <th>DatabaseWantToWorkWith</th>\n",
              "      <th>PlatformHaveWorkedWith</th>\n",
              "      <th>PlatformWantToWorkWith</th>\n",
              "      <th>WebframeHaveWorkedWith</th>\n",
              "      <th>WebframeWantToWorkWith</th>\n",
              "      <th>MiscTechHaveWorkedWith</th>\n",
              "      <th>MiscTechWantToWorkWith</th>\n",
              "      <th>ToolsTechHaveWorkedWith</th>\n",
              "      <th>ToolsTechWantToWorkWith</th>\n",
              "      <th>NEWCollabToolsHaveWorkedWith</th>\n",
              "      <th>NEWCollabToolsWantToWorkWith</th>\n",
              "      <th>OpSys</th>\n",
              "      <th>NEWStuck</th>\n",
              "      <th>NEWSOSites</th>\n",
              "      <th>SOVisitFreq</th>\n",
              "      <th>SOAccount</th>\n",
              "      <th>SOPartFreq</th>\n",
              "      <th>SOComm</th>\n",
              "      <th>NEWOtherComms</th>\n",
              "      <th>Age</th>\n",
              "      <th>Gender</th>\n",
              "      <th>Trans</th>\n",
              "      <th>Sexuality</th>\n",
              "      <th>Ethnicity</th>\n",
              "      <th>Accessibility</th>\n",
              "      <th>MentalHealth</th>\n",
              "      <th>SurveyLength</th>\n",
              "      <th>SurveyEase</th>\n",
              "      <th>ConvertedCompYearly</th>\n",
              "    </tr>\n",
              "  </thead>\n",
              "  <tbody>\n",
              "    <tr>\n",
              "      <th>0</th>\n",
              "      <td>1</td>\n",
              "      <td>I am a developer by profession</td>\n",
              "      <td>Independent contractor, freelancer, or self-em...</td>\n",
              "      <td>Slovakia</td>\n",
              "      <td>NaN</td>\n",
              "      <td>NaN</td>\n",
              "      <td>Secondary school (e.g. American high school, G...</td>\n",
              "      <td>18 - 24 years</td>\n",
              "      <td>Coding Bootcamp;Other online resources (ex: vi...</td>\n",
              "      <td>NaN</td>\n",
              "      <td>NaN</td>\n",
              "      <td>Developer, mobile</td>\n",
              "      <td>20 to 99 employees</td>\n",
              "      <td>EUR European Euro</td>\n",
              "      <td>4800.0</td>\n",
              "      <td>Monthly</td>\n",
              "      <td>C++;HTML/CSS;JavaScript;Objective-C;PHP;Swift</td>\n",
              "      <td>Swift</td>\n",
              "      <td>PostgreSQL;SQLite</td>\n",
              "      <td>SQLite</td>\n",
              "      <td>NaN</td>\n",
              "      <td>NaN</td>\n",
              "      <td>Laravel;Symfony</td>\n",
              "      <td>NaN</td>\n",
              "      <td>NaN</td>\n",
              "      <td>NaN</td>\n",
              "      <td>NaN</td>\n",
              "      <td>NaN</td>\n",
              "      <td>PHPStorm;Xcode</td>\n",
              "      <td>Atom;Xcode</td>\n",
              "      <td>MacOS</td>\n",
              "      <td>Call a coworker or friend;Visit Stack Overflow...</td>\n",
              "      <td>Stack Overflow</td>\n",
              "      <td>Multiple times per day</td>\n",
              "      <td>Yes</td>\n",
              "      <td>A few times per month or weekly</td>\n",
              "      <td>Yes, definitely</td>\n",
              "      <td>No</td>\n",
              "      <td>25-34 years old</td>\n",
              "      <td>Man</td>\n",
              "      <td>No</td>\n",
              "      <td>Straight / Heterosexual</td>\n",
              "      <td>White or of European descent</td>\n",
              "      <td>None of the above</td>\n",
              "      <td>None of the above</td>\n",
              "      <td>Appropriate in length</td>\n",
              "      <td>Easy</td>\n",
              "      <td>62268.0</td>\n",
              "    </tr>\n",
              "    <tr>\n",
              "      <th>1</th>\n",
              "      <td>2</td>\n",
              "      <td>I am a student who is learning to code</td>\n",
              "      <td>Student, full-time</td>\n",
              "      <td>Netherlands</td>\n",
              "      <td>NaN</td>\n",
              "      <td>NaN</td>\n",
              "      <td>Bachelor’s degree (B.A., B.S., B.Eng., etc.)</td>\n",
              "      <td>11 - 17 years</td>\n",
              "      <td>Other online resources (ex: videos, blogs, etc...</td>\n",
              "      <td>7</td>\n",
              "      <td>NaN</td>\n",
              "      <td>NaN</td>\n",
              "      <td>NaN</td>\n",
              "      <td>NaN</td>\n",
              "      <td>NaN</td>\n",
              "      <td>NaN</td>\n",
              "      <td>JavaScript;Python</td>\n",
              "      <td>NaN</td>\n",
              "      <td>PostgreSQL</td>\n",
              "      <td>NaN</td>\n",
              "      <td>NaN</td>\n",
              "      <td>NaN</td>\n",
              "      <td>Angular;Flask;Vue.js</td>\n",
              "      <td>NaN</td>\n",
              "      <td>Cordova</td>\n",
              "      <td>NaN</td>\n",
              "      <td>Docker;Git;Yarn</td>\n",
              "      <td>Git</td>\n",
              "      <td>Android Studio;IntelliJ;Notepad++;PyCharm</td>\n",
              "      <td>NaN</td>\n",
              "      <td>Windows</td>\n",
              "      <td>Visit Stack Overflow;Google it</td>\n",
              "      <td>Stack Overflow</td>\n",
              "      <td>Daily or almost daily</td>\n",
              "      <td>Yes</td>\n",
              "      <td>Daily or almost daily</td>\n",
              "      <td>Yes, definitely</td>\n",
              "      <td>No</td>\n",
              "      <td>18-24 years old</td>\n",
              "      <td>Man</td>\n",
              "      <td>No</td>\n",
              "      <td>Straight / Heterosexual</td>\n",
              "      <td>White or of European descent</td>\n",
              "      <td>None of the above</td>\n",
              "      <td>None of the above</td>\n",
              "      <td>Appropriate in length</td>\n",
              "      <td>Easy</td>\n",
              "      <td>NaN</td>\n",
              "    </tr>\n",
              "  </tbody>\n",
              "</table>\n",
              "</div>\n",
              "      <button class=\"colab-df-convert\" onclick=\"convertToInteractive('df-037d474b-168f-459a-8765-65a68af0dbb0')\"\n",
              "              title=\"Convert this dataframe to an interactive table.\"\n",
              "              style=\"display:none;\">\n",
              "        \n",
              "  <svg xmlns=\"http://www.w3.org/2000/svg\" height=\"24px\"viewBox=\"0 0 24 24\"\n",
              "       width=\"24px\">\n",
              "    <path d=\"M0 0h24v24H0V0z\" fill=\"none\"/>\n",
              "    <path d=\"M18.56 5.44l.94 2.06.94-2.06 2.06-.94-2.06-.94-.94-2.06-.94 2.06-2.06.94zm-11 1L8.5 8.5l.94-2.06 2.06-.94-2.06-.94L8.5 2.5l-.94 2.06-2.06.94zm10 10l.94 2.06.94-2.06 2.06-.94-2.06-.94-.94-2.06-.94 2.06-2.06.94z\"/><path d=\"M17.41 7.96l-1.37-1.37c-.4-.4-.92-.59-1.43-.59-.52 0-1.04.2-1.43.59L10.3 9.45l-7.72 7.72c-.78.78-.78 2.05 0 2.83L4 21.41c.39.39.9.59 1.41.59.51 0 1.02-.2 1.41-.59l7.78-7.78 2.81-2.81c.8-.78.8-2.07 0-2.86zM5.41 20L4 18.59l7.72-7.72 1.47 1.35L5.41 20z\"/>\n",
              "  </svg>\n",
              "      </button>\n",
              "      \n",
              "  <style>\n",
              "    .colab-df-container {\n",
              "      display:flex;\n",
              "      flex-wrap:wrap;\n",
              "      gap: 12px;\n",
              "    }\n",
              "\n",
              "    .colab-df-convert {\n",
              "      background-color: #E8F0FE;\n",
              "      border: none;\n",
              "      border-radius: 50%;\n",
              "      cursor: pointer;\n",
              "      display: none;\n",
              "      fill: #1967D2;\n",
              "      height: 32px;\n",
              "      padding: 0 0 0 0;\n",
              "      width: 32px;\n",
              "    }\n",
              "\n",
              "    .colab-df-convert:hover {\n",
              "      background-color: #E2EBFA;\n",
              "      box-shadow: 0px 1px 2px rgba(60, 64, 67, 0.3), 0px 1px 3px 1px rgba(60, 64, 67, 0.15);\n",
              "      fill: #174EA6;\n",
              "    }\n",
              "\n",
              "    [theme=dark] .colab-df-convert {\n",
              "      background-color: #3B4455;\n",
              "      fill: #D2E3FC;\n",
              "    }\n",
              "\n",
              "    [theme=dark] .colab-df-convert:hover {\n",
              "      background-color: #434B5C;\n",
              "      box-shadow: 0px 1px 3px 1px rgba(0, 0, 0, 0.15);\n",
              "      filter: drop-shadow(0px 1px 2px rgba(0, 0, 0, 0.3));\n",
              "      fill: #FFFFFF;\n",
              "    }\n",
              "  </style>\n",
              "\n",
              "      <script>\n",
              "        const buttonEl =\n",
              "          document.querySelector('#df-037d474b-168f-459a-8765-65a68af0dbb0 button.colab-df-convert');\n",
              "        buttonEl.style.display =\n",
              "          google.colab.kernel.accessAllowed ? 'block' : 'none';\n",
              "\n",
              "        async function convertToInteractive(key) {\n",
              "          const element = document.querySelector('#df-037d474b-168f-459a-8765-65a68af0dbb0');\n",
              "          const dataTable =\n",
              "            await google.colab.kernel.invokeFunction('convertToInteractive',\n",
              "                                                     [key], {});\n",
              "          if (!dataTable) return;\n",
              "\n",
              "          const docLinkHtml = 'Like what you see? Visit the ' +\n",
              "            '<a target=\"_blank\" href=https://colab.research.google.com/notebooks/data_table.ipynb>data table notebook</a>'\n",
              "            + ' to learn more about interactive tables.';\n",
              "          element.innerHTML = '';\n",
              "          dataTable['output_type'] = 'display_data';\n",
              "          await google.colab.output.renderOutput(dataTable, element);\n",
              "          const docLink = document.createElement('div');\n",
              "          docLink.innerHTML = docLinkHtml;\n",
              "          element.appendChild(docLink);\n",
              "        }\n",
              "      </script>\n",
              "    </div>\n",
              "  </div>\n",
              "  "
            ],
            "text/plain": [
              "   ResponseId                              MainBranch  \\\n",
              "0           1          I am a developer by profession   \n",
              "1           2  I am a student who is learning to code   \n",
              "\n",
              "                                          Employment      Country US_State  \\\n",
              "0  Independent contractor, freelancer, or self-em...     Slovakia      NaN   \n",
              "1                                 Student, full-time  Netherlands      NaN   \n",
              "\n",
              "  UK_Country                                            EdLevel  \\\n",
              "0        NaN  Secondary school (e.g. American high school, G...   \n",
              "1        NaN       Bachelor’s degree (B.A., B.S., B.Eng., etc.)   \n",
              "\n",
              "      Age1stCode                                          LearnCode YearsCode  \\\n",
              "0  18 - 24 years  Coding Bootcamp;Other online resources (ex: vi...       NaN   \n",
              "1  11 - 17 years  Other online resources (ex: videos, blogs, etc...         7   \n",
              "\n",
              "  YearsCodePro            DevType             OrgSize           Currency  \\\n",
              "0          NaN  Developer, mobile  20 to 99 employees  EUR European Euro   \n",
              "1          NaN                NaN                 NaN                NaN   \n",
              "\n",
              "   CompTotal CompFreq                         LanguageHaveWorkedWith  \\\n",
              "0     4800.0  Monthly  C++;HTML/CSS;JavaScript;Objective-C;PHP;Swift   \n",
              "1        NaN      NaN                              JavaScript;Python   \n",
              "\n",
              "  LanguageWantToWorkWith DatabaseHaveWorkedWith DatabaseWantToWorkWith  \\\n",
              "0                  Swift      PostgreSQL;SQLite                 SQLite   \n",
              "1                    NaN             PostgreSQL                    NaN   \n",
              "\n",
              "  PlatformHaveWorkedWith PlatformWantToWorkWith WebframeHaveWorkedWith  \\\n",
              "0                    NaN                    NaN        Laravel;Symfony   \n",
              "1                    NaN                    NaN   Angular;Flask;Vue.js   \n",
              "\n",
              "  WebframeWantToWorkWith MiscTechHaveWorkedWith MiscTechWantToWorkWith  \\\n",
              "0                    NaN                    NaN                    NaN   \n",
              "1                    NaN                Cordova                    NaN   \n",
              "\n",
              "  ToolsTechHaveWorkedWith ToolsTechWantToWorkWith  \\\n",
              "0                     NaN                     NaN   \n",
              "1         Docker;Git;Yarn                     Git   \n",
              "\n",
              "                NEWCollabToolsHaveWorkedWith NEWCollabToolsWantToWorkWith  \\\n",
              "0                             PHPStorm;Xcode                   Atom;Xcode   \n",
              "1  Android Studio;IntelliJ;Notepad++;PyCharm                          NaN   \n",
              "\n",
              "     OpSys                                           NEWStuck      NEWSOSites  \\\n",
              "0    MacOS  Call a coworker or friend;Visit Stack Overflow...  Stack Overflow   \n",
              "1  Windows                     Visit Stack Overflow;Google it  Stack Overflow   \n",
              "\n",
              "              SOVisitFreq SOAccount                       SOPartFreq  \\\n",
              "0  Multiple times per day       Yes  A few times per month or weekly   \n",
              "1   Daily or almost daily       Yes            Daily or almost daily   \n",
              "\n",
              "            SOComm NEWOtherComms              Age Gender Trans  \\\n",
              "0  Yes, definitely            No  25-34 years old    Man    No   \n",
              "1  Yes, definitely            No  18-24 years old    Man    No   \n",
              "\n",
              "                 Sexuality                     Ethnicity      Accessibility  \\\n",
              "0  Straight / Heterosexual  White or of European descent  None of the above   \n",
              "1  Straight / Heterosexual  White or of European descent  None of the above   \n",
              "\n",
              "        MentalHealth           SurveyLength SurveyEase  ConvertedCompYearly  \n",
              "0  None of the above  Appropriate in length       Easy              62268.0  \n",
              "1  None of the above  Appropriate in length       Easy                  NaN  "
            ]
          },
          "metadata": {},
          "execution_count": 15
        }
      ]
    },
    {
      "cell_type": "code",
      "source": [
        "schema_df.tail(2)"
      ],
      "metadata": {
        "colab": {
          "base_uri": "https://localhost:8080/",
          "height": 112
        },
        "id": "oN1IynLHkj_J",
        "outputId": "5b3e19f2-9eef-4d6e-976b-0f784bdd0fe3"
      },
      "execution_count": 16,
      "outputs": [
        {
          "output_type": "execute_result",
          "data": {
            "text/html": [
              "\n",
              "  <div id=\"df-18730c92-4ad0-4a18-9c87-024fb9c71482\">\n",
              "    <div class=\"colab-df-container\">\n",
              "      <div>\n",
              "<style scoped>\n",
              "    .dataframe tbody tr th:only-of-type {\n",
              "        vertical-align: middle;\n",
              "    }\n",
              "\n",
              "    .dataframe tbody tr th {\n",
              "        vertical-align: top;\n",
              "    }\n",
              "\n",
              "    .dataframe thead th {\n",
              "        text-align: right;\n",
              "    }\n",
              "</style>\n",
              "<table border=\"1\" class=\"dataframe\">\n",
              "  <thead>\n",
              "    <tr style=\"text-align: right;\">\n",
              "      <th></th>\n",
              "      <th>qid</th>\n",
              "      <th>qname</th>\n",
              "      <th>question</th>\n",
              "      <th>force_resp</th>\n",
              "      <th>type</th>\n",
              "      <th>selector</th>\n",
              "    </tr>\n",
              "  </thead>\n",
              "  <tbody>\n",
              "    <tr>\n",
              "      <th>46</th>\n",
              "      <td>QID132</td>\n",
              "      <td>SurveyLength</td>\n",
              "      <td>How do you feel about the length of the survey...</td>\n",
              "      <td>False</td>\n",
              "      <td>MC</td>\n",
              "      <td>MAVR</td>\n",
              "    </tr>\n",
              "    <tr>\n",
              "      <th>47</th>\n",
              "      <td>QID133</td>\n",
              "      <td>SurveyEase</td>\n",
              "      <td>How easy or difficult was this survey to compl...</td>\n",
              "      <td>False</td>\n",
              "      <td>MC</td>\n",
              "      <td>MAVR</td>\n",
              "    </tr>\n",
              "  </tbody>\n",
              "</table>\n",
              "</div>\n",
              "      <button class=\"colab-df-convert\" onclick=\"convertToInteractive('df-18730c92-4ad0-4a18-9c87-024fb9c71482')\"\n",
              "              title=\"Convert this dataframe to an interactive table.\"\n",
              "              style=\"display:none;\">\n",
              "        \n",
              "  <svg xmlns=\"http://www.w3.org/2000/svg\" height=\"24px\"viewBox=\"0 0 24 24\"\n",
              "       width=\"24px\">\n",
              "    <path d=\"M0 0h24v24H0V0z\" fill=\"none\"/>\n",
              "    <path d=\"M18.56 5.44l.94 2.06.94-2.06 2.06-.94-2.06-.94-.94-2.06-.94 2.06-2.06.94zm-11 1L8.5 8.5l.94-2.06 2.06-.94-2.06-.94L8.5 2.5l-.94 2.06-2.06.94zm10 10l.94 2.06.94-2.06 2.06-.94-2.06-.94-.94-2.06-.94 2.06-2.06.94z\"/><path d=\"M17.41 7.96l-1.37-1.37c-.4-.4-.92-.59-1.43-.59-.52 0-1.04.2-1.43.59L10.3 9.45l-7.72 7.72c-.78.78-.78 2.05 0 2.83L4 21.41c.39.39.9.59 1.41.59.51 0 1.02-.2 1.41-.59l7.78-7.78 2.81-2.81c.8-.78.8-2.07 0-2.86zM5.41 20L4 18.59l7.72-7.72 1.47 1.35L5.41 20z\"/>\n",
              "  </svg>\n",
              "      </button>\n",
              "      \n",
              "  <style>\n",
              "    .colab-df-container {\n",
              "      display:flex;\n",
              "      flex-wrap:wrap;\n",
              "      gap: 12px;\n",
              "    }\n",
              "\n",
              "    .colab-df-convert {\n",
              "      background-color: #E8F0FE;\n",
              "      border: none;\n",
              "      border-radius: 50%;\n",
              "      cursor: pointer;\n",
              "      display: none;\n",
              "      fill: #1967D2;\n",
              "      height: 32px;\n",
              "      padding: 0 0 0 0;\n",
              "      width: 32px;\n",
              "    }\n",
              "\n",
              "    .colab-df-convert:hover {\n",
              "      background-color: #E2EBFA;\n",
              "      box-shadow: 0px 1px 2px rgba(60, 64, 67, 0.3), 0px 1px 3px 1px rgba(60, 64, 67, 0.15);\n",
              "      fill: #174EA6;\n",
              "    }\n",
              "\n",
              "    [theme=dark] .colab-df-convert {\n",
              "      background-color: #3B4455;\n",
              "      fill: #D2E3FC;\n",
              "    }\n",
              "\n",
              "    [theme=dark] .colab-df-convert:hover {\n",
              "      background-color: #434B5C;\n",
              "      box-shadow: 0px 1px 3px 1px rgba(0, 0, 0, 0.15);\n",
              "      filter: drop-shadow(0px 1px 2px rgba(0, 0, 0, 0.3));\n",
              "      fill: #FFFFFF;\n",
              "    }\n",
              "  </style>\n",
              "\n",
              "      <script>\n",
              "        const buttonEl =\n",
              "          document.querySelector('#df-18730c92-4ad0-4a18-9c87-024fb9c71482 button.colab-df-convert');\n",
              "        buttonEl.style.display =\n",
              "          google.colab.kernel.accessAllowed ? 'block' : 'none';\n",
              "\n",
              "        async function convertToInteractive(key) {\n",
              "          const element = document.querySelector('#df-18730c92-4ad0-4a18-9c87-024fb9c71482');\n",
              "          const dataTable =\n",
              "            await google.colab.kernel.invokeFunction('convertToInteractive',\n",
              "                                                     [key], {});\n",
              "          if (!dataTable) return;\n",
              "\n",
              "          const docLinkHtml = 'Like what you see? Visit the ' +\n",
              "            '<a target=\"_blank\" href=https://colab.research.google.com/notebooks/data_table.ipynb>data table notebook</a>'\n",
              "            + ' to learn more about interactive tables.';\n",
              "          element.innerHTML = '';\n",
              "          dataTable['output_type'] = 'display_data';\n",
              "          await google.colab.output.renderOutput(dataTable, element);\n",
              "          const docLink = document.createElement('div');\n",
              "          docLink.innerHTML = docLinkHtml;\n",
              "          element.appendChild(docLink);\n",
              "        }\n",
              "      </script>\n",
              "    </div>\n",
              "  </div>\n",
              "  "
            ],
            "text/plain": [
              "       qid         qname                                           question  \\\n",
              "46  QID132  SurveyLength  How do you feel about the length of the survey...   \n",
              "47  QID133    SurveyEase  How easy or difficult was this survey to compl...   \n",
              "\n",
              "    force_resp type selector  \n",
              "46       False   MC     MAVR  \n",
              "47       False   MC     MAVR  "
            ]
          },
          "metadata": {},
          "execution_count": 16
        }
      ]
    }
  ]
}