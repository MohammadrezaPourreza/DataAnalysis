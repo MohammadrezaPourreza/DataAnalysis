{
  "nbformat": 4,
  "nbformat_minor": 0,
  "metadata": {
    "colab": {
      "name": "Numpy.ipynb",
      "provenance": [],
      "authorship_tag": "ABX9TyOelvAIlBbLlBVratho8xgG",
      "include_colab_link": true
    },
    "kernelspec": {
      "name": "python3",
      "display_name": "Python 3"
    },
    "language_info": {
      "name": "python"
    }
  },
  "cells": [
    {
      "cell_type": "markdown",
      "metadata": {
        "id": "view-in-github",
        "colab_type": "text"
      },
      "source": [
        "<a href=\"https://colab.research.google.com/github/MohammadrezaPourreza/DataAnalysis/blob/main/Numpy.ipynb\" target=\"_parent\"><img src=\"https://colab.research.google.com/assets/colab-badge.svg\" alt=\"Open In Colab\"/></a>"
      ]
    },
    {
      "cell_type": "code",
      "source": [
        "import numpy as np"
      ],
      "metadata": {
        "id": "iZtmu_hMax-_"
      },
      "execution_count": 2,
      "outputs": []
    },
    {
      "cell_type": "markdown",
      "source": [
        "creating arrays"
      ],
      "metadata": {
        "id": "x0xMxVYKa5iJ"
      }
    },
    {
      "cell_type": "code",
      "source": [
        "arr = np.array([1,2,3,4]) #array from a list\n",
        "#or\n",
        "arr = np.zeros(4)\n",
        "arr = np.ones(4)\n",
        "arr = np.random.random(4)\n",
        "arr"
      ],
      "metadata": {
        "colab": {
          "base_uri": "https://localhost:8080/"
        },
        "id": "SU6DIscFa66t",
        "outputId": "5e7a0843-a7c8-4aa1-a217-c6b3acd572b6"
      },
      "execution_count": 6,
      "outputs": [
        {
          "output_type": "execute_result",
          "data": {
            "text/plain": [
              "array([0.78717335, 0.11692307, 0.94030399, 0.08633693])"
            ]
          },
          "metadata": {},
          "execution_count": 6
        }
      ]
    },
    {
      "cell_type": "markdown",
      "source": [
        "Array arithmetic"
      ],
      "metadata": {
        "id": "E-6_gnHTbbkS"
      }
    },
    {
      "cell_type": "code",
      "source": [
        "data = np.array([1,2,3])\n",
        "ones =  np.ones(3)\n",
        "#add + , subtract - , multiply * , division /\n",
        "arr =  data + ones\n",
        "arr = data * 1.6 #this is called broadcasting\n",
        "arr"
      ],
      "metadata": {
        "colab": {
          "base_uri": "https://localhost:8080/"
        },
        "id": "aSiCAM6QbhUG",
        "outputId": "c6bde0e2-a97d-484b-de97-ab4e4143794c"
      },
      "execution_count": 8,
      "outputs": [
        {
          "output_type": "execute_result",
          "data": {
            "text/plain": [
              "array([1.6, 3.2, 4.8])"
            ]
          },
          "metadata": {},
          "execution_count": 8
        }
      ]
    },
    {
      "cell_type": "markdown",
      "source": [
        "slices"
      ],
      "metadata": {
        "id": "Cv7yAbz2c8mc"
      }
    },
    {
      "cell_type": "code",
      "source": [
        "arr[1:2]"
      ],
      "metadata": {
        "colab": {
          "base_uri": "https://localhost:8080/"
        },
        "id": "Tt5yXW0ic91u",
        "outputId": "28f570c5-201e-48ef-fa78-8f608b465478"
      },
      "execution_count": 9,
      "outputs": [
        {
          "output_type": "execute_result",
          "data": {
            "text/plain": [
              "array([3.2])"
            ]
          },
          "metadata": {},
          "execution_count": 9
        }
      ]
    },
    {
      "cell_type": "code",
      "source": [
        "arr[1:]"
      ],
      "metadata": {
        "colab": {
          "base_uri": "https://localhost:8080/"
        },
        "id": "tMCbnt0NdAUK",
        "outputId": "ef36a7a6-0ee7-40a4-bff1-dcd98b53f986"
      },
      "execution_count": 10,
      "outputs": [
        {
          "output_type": "execute_result",
          "data": {
            "text/plain": [
              "array([3.2, 4.8])"
            ]
          },
          "metadata": {},
          "execution_count": 10
        }
      ]
    },
    {
      "cell_type": "code",
      "source": [
        "arr[:-1]"
      ],
      "metadata": {
        "colab": {
          "base_uri": "https://localhost:8080/"
        },
        "id": "MuwIkShxdEG3",
        "outputId": "9d2e6014-0c6d-40c0-84b1-b7436410bb55"
      },
      "execution_count": 14,
      "outputs": [
        {
          "output_type": "execute_result",
          "data": {
            "text/plain": [
              "array([1.6, 3.2])"
            ]
          },
          "metadata": {},
          "execution_count": 14
        }
      ]
    },
    {
      "cell_type": "markdown",
      "source": [
        "aggregation functions"
      ],
      "metadata": {
        "id": "FXYu5QTqdXmD"
      }
    },
    {
      "cell_type": "code",
      "source": [
        "data.min()"
      ],
      "metadata": {
        "colab": {
          "base_uri": "https://localhost:8080/"
        },
        "id": "ntQ7zi8ZdZbn",
        "outputId": "bc553f35-b687-4759-d701-27ac22f21bb9"
      },
      "execution_count": 15,
      "outputs": [
        {
          "output_type": "execute_result",
          "data": {
            "text/plain": [
              "1"
            ]
          },
          "metadata": {},
          "execution_count": 15
        }
      ]
    },
    {
      "cell_type": "code",
      "source": [
        "data.max()"
      ],
      "metadata": {
        "colab": {
          "base_uri": "https://localhost:8080/"
        },
        "id": "uZ4VkFS8dbPm",
        "outputId": "4a34a722-3ff3-4736-b4e5-cc4dea49aac9"
      },
      "execution_count": 16,
      "outputs": [
        {
          "output_type": "execute_result",
          "data": {
            "text/plain": [
              "3"
            ]
          },
          "metadata": {},
          "execution_count": 16
        }
      ]
    },
    {
      "cell_type": "code",
      "source": [
        "data.mean()"
      ],
      "metadata": {
        "colab": {
          "base_uri": "https://localhost:8080/"
        },
        "id": "v8eik5H7ddDE",
        "outputId": "b22ca668-da66-41f5-bb3c-42ea2951b248"
      },
      "execution_count": 17,
      "outputs": [
        {
          "output_type": "execute_result",
          "data": {
            "text/plain": [
              "2.0"
            ]
          },
          "metadata": {},
          "execution_count": 17
        }
      ]
    },
    {
      "cell_type": "code",
      "source": [
        "data.sum()"
      ],
      "metadata": {
        "colab": {
          "base_uri": "https://localhost:8080/"
        },
        "id": "F_T83tPYdgTz",
        "outputId": "005509d9-c8ba-43fd-a639-816534e45f85"
      },
      "execution_count": 19,
      "outputs": [
        {
          "output_type": "execute_result",
          "data": {
            "text/plain": [
              "6"
            ]
          },
          "metadata": {},
          "execution_count": 19
        }
      ]
    },
    {
      "cell_type": "code",
      "source": [
        "data.prod() #multiply all the elements"
      ],
      "metadata": {
        "colab": {
          "base_uri": "https://localhost:8080/"
        },
        "id": "Qzi9XMnhdkiS",
        "outputId": "e781aa3e-7e49-49bf-d63d-cdaa46a49bde"
      },
      "execution_count": 20,
      "outputs": [
        {
          "output_type": "execute_result",
          "data": {
            "text/plain": [
              "6"
            ]
          },
          "metadata": {},
          "execution_count": 20
        }
      ]
    },
    {
      "cell_type": "code",
      "source": [
        "data = np.array([-1,0,1,2])\n",
        "data.std() #standard deviation"
      ],
      "metadata": {
        "colab": {
          "base_uri": "https://localhost:8080/"
        },
        "id": "O72maaYldqWU",
        "outputId": "1254897a-6e70-459d-e674-a7f3d0ad4604"
      },
      "execution_count": 41,
      "outputs": [
        {
          "output_type": "execute_result",
          "data": {
            "text/plain": [
              "1.118033988749895"
            ]
          },
          "metadata": {},
          "execution_count": 41
        }
      ]
    },
    {
      "cell_type": "markdown",
      "source": [
        "More than one dimension"
      ],
      "metadata": {
        "id": "UlComlfreDnB"
      }
    },
    {
      "cell_type": "code",
      "source": [
        "matrix = np.array([[1,2],[3,4]])\n",
        "matrix = np.ones((4,3))\n",
        "matrix1 = np.zeros((4,3))\n",
        "matrix2 = np.random.random((4,3))\n",
        "matrix2"
      ],
      "metadata": {
        "colab": {
          "base_uri": "https://localhost:8080/"
        },
        "id": "43l_86u_eFVt",
        "outputId": "80448c22-0e86-4d99-9233-3467f6f5c6ed"
      },
      "execution_count": 35,
      "outputs": [
        {
          "output_type": "execute_result",
          "data": {
            "text/plain": [
              "array([[0.29747759, 0.12373855, 0.54438453],\n",
              "       [0.34583132, 0.09444839, 0.82308965],\n",
              "       [0.16451192, 0.62398954, 0.16336278],\n",
              "       [0.36738683, 0.68211734, 0.16060033]])"
            ]
          },
          "metadata": {},
          "execution_count": 35
        }
      ]
    },
    {
      "cell_type": "markdown",
      "source": [
        "position wise arthimetics (+,-,*,/) for matrices in same size"
      ],
      "metadata": {
        "id": "9CDmCI2reoPH"
      }
    },
    {
      "cell_type": "code",
      "source": [
        "matrix2 + matrix"
      ],
      "metadata": {
        "colab": {
          "base_uri": "https://localhost:8080/"
        },
        "id": "2woz9gnMepO0",
        "outputId": "8b2eeb09-17e5-47ca-e6a5-dcb89458ce48"
      },
      "execution_count": 34,
      "outputs": [
        {
          "output_type": "execute_result",
          "data": {
            "text/plain": [
              "array([[1.4429133 , 1.69111216, 1.00695479],\n",
              "       [1.78335309, 1.68267964, 1.69256864],\n",
              "       [1.90120894, 1.37399215, 1.89057711],\n",
              "       [1.85028579, 1.14204439, 1.44820684]])"
            ]
          },
          "metadata": {},
          "execution_count": 34
        }
      ]
    },
    {
      "cell_type": "markdown",
      "source": [
        "Broadcasting"
      ],
      "metadata": {
        "id": "tZP5G9iPfURB"
      }
    },
    {
      "cell_type": "code",
      "source": [
        "matrix *3 "
      ],
      "metadata": {
        "colab": {
          "base_uri": "https://localhost:8080/"
        },
        "id": "ltOKuw55fV4H",
        "outputId": "d5ec9088-5b64-4478-c859-e7477f0cd9a4"
      },
      "execution_count": 36,
      "outputs": [
        {
          "output_type": "execute_result",
          "data": {
            "text/plain": [
              "array([[3., 3., 3.],\n",
              "       [3., 3., 3.],\n",
              "       [3., 3., 3.],\n",
              "       [3., 3., 3.]])"
            ]
          },
          "metadata": {},
          "execution_count": 36
        }
      ]
    },
    {
      "cell_type": "code",
      "source": [
        "matrix * np.array([1,4,3])"
      ],
      "metadata": {
        "colab": {
          "base_uri": "https://localhost:8080/"
        },
        "id": "DaERCfaqfZP6",
        "outputId": "dab5fe31-bf10-49e6-e630-9b5d7c9753e2"
      },
      "execution_count": 38,
      "outputs": [
        {
          "output_type": "execute_result",
          "data": {
            "text/plain": [
              "array([[1., 4., 3.],\n",
              "       [1., 4., 3.],\n",
              "       [1., 4., 3.],\n",
              "       [1., 4., 3.]])"
            ]
          },
          "metadata": {},
          "execution_count": 38
        }
      ]
    },
    {
      "cell_type": "code",
      "source": [
        "matrix * np.array([[1],[2],[3],[4]])"
      ],
      "metadata": {
        "colab": {
          "base_uri": "https://localhost:8080/"
        },
        "id": "qWiXeQ7YfizF",
        "outputId": "35dfb753-0eee-4931-ad9d-1f8e937cb82b"
      },
      "execution_count": 39,
      "outputs": [
        {
          "output_type": "execute_result",
          "data": {
            "text/plain": [
              "array([[1., 1., 1.],\n",
              "       [2., 2., 2.],\n",
              "       [3., 3., 3.],\n",
              "       [4., 4., 4.]])"
            ]
          },
          "metadata": {},
          "execution_count": 39
        }
      ]
    },
    {
      "cell_type": "markdown",
      "source": [
        "Dot product"
      ],
      "metadata": {
        "id": "B1OBs_u_f2bA"
      }
    },
    {
      "cell_type": "code",
      "source": [
        "data.dot(matrix)"
      ],
      "metadata": {
        "colab": {
          "base_uri": "https://localhost:8080/"
        },
        "id": "dvO07U9Rf32j",
        "outputId": "b5641a2f-c279-49e8-c506-af912d5b946c"
      },
      "execution_count": 42,
      "outputs": [
        {
          "output_type": "execute_result",
          "data": {
            "text/plain": [
              "array([2., 2., 2.])"
            ]
          },
          "metadata": {},
          "execution_count": 42
        }
      ]
    },
    {
      "cell_type": "code",
      "source": [
        "matrix2[0:2,2]"
      ],
      "metadata": {
        "colab": {
          "base_uri": "https://localhost:8080/"
        },
        "id": "Qjq5ZhN0gPw8",
        "outputId": "8b12c8f7-d756-49bf-ff95-bf1df13d3658"
      },
      "execution_count": 44,
      "outputs": [
        {
          "output_type": "execute_result",
          "data": {
            "text/plain": [
              "array([0.54438453, 0.82308965])"
            ]
          },
          "metadata": {},
          "execution_count": 44
        }
      ]
    },
    {
      "cell_type": "markdown",
      "source": [
        "aggregate matrices"
      ],
      "metadata": {
        "id": "jEjhw_9fgfs1"
      }
    },
    {
      "cell_type": "code",
      "source": [
        "#same as vectors mentioned above except we can choose axis\n",
        "matrix2"
      ],
      "metadata": {
        "colab": {
          "base_uri": "https://localhost:8080/"
        },
        "id": "Iy3cOHqGghhZ",
        "outputId": "f5c27928-a5bf-43b2-c68a-a696b285a5b2"
      },
      "execution_count": 45,
      "outputs": [
        {
          "output_type": "execute_result",
          "data": {
            "text/plain": [
              "array([[0.29747759, 0.12373855, 0.54438453],\n",
              "       [0.34583132, 0.09444839, 0.82308965],\n",
              "       [0.16451192, 0.62398954, 0.16336278],\n",
              "       [0.36738683, 0.68211734, 0.16060033]])"
            ]
          },
          "metadata": {},
          "execution_count": 45
        }
      ]
    },
    {
      "cell_type": "code",
      "source": [
        "matrix2.max(axis=0) #0 is equal to columns"
      ],
      "metadata": {
        "colab": {
          "base_uri": "https://localhost:8080/"
        },
        "id": "bnacYsUogssc",
        "outputId": "3406035e-1169-4d99-84d1-6b57666d1b7e"
      },
      "execution_count": 47,
      "outputs": [
        {
          "output_type": "execute_result",
          "data": {
            "text/plain": [
              "array([0.36738683, 0.68211734, 0.82308965])"
            ]
          },
          "metadata": {},
          "execution_count": 47
        }
      ]
    },
    {
      "cell_type": "code",
      "source": [
        "matrix2.prod(axis=1) #1 is equal to rows"
      ],
      "metadata": {
        "colab": {
          "base_uri": "https://localhost:8080/"
        },
        "id": "vfePpHNsg5eh",
        "outputId": "f2b63c99-72eb-4b11-8ec5-e7d6c6f2b39a"
      },
      "execution_count": 48,
      "outputs": [
        {
          "output_type": "execute_result",
          "data": {
            "text/plain": [
              "array([0.02003849, 0.02688475, 0.0167698 , 0.04024659])"
            ]
          },
          "metadata": {},
          "execution_count": 48
        }
      ]
    },
    {
      "cell_type": "markdown",
      "source": [
        "get the transpose of a matrix"
      ],
      "metadata": {
        "id": "uCLJW385hVOY"
      }
    },
    {
      "cell_type": "code",
      "source": [
        "matrix2.T"
      ],
      "metadata": {
        "colab": {
          "base_uri": "https://localhost:8080/"
        },
        "id": "3QdQO3ZkhXyg",
        "outputId": "c546ba8a-b2f7-43ee-9d3b-caa3d828c540"
      },
      "execution_count": 49,
      "outputs": [
        {
          "output_type": "execute_result",
          "data": {
            "text/plain": [
              "array([[0.29747759, 0.34583132, 0.16451192, 0.36738683],\n",
              "       [0.12373855, 0.09444839, 0.62398954, 0.68211734],\n",
              "       [0.54438453, 0.82308965, 0.16336278, 0.16060033]])"
            ]
          },
          "metadata": {},
          "execution_count": 49
        }
      ]
    },
    {
      "cell_type": "markdown",
      "source": [
        "**reshaping**"
      ],
      "metadata": {
        "id": "94r5CG9jhkpr"
      }
    },
    {
      "cell_type": "code",
      "source": [
        "matrix2"
      ],
      "metadata": {
        "colab": {
          "base_uri": "https://localhost:8080/"
        },
        "id": "lNUphkzshmNs",
        "outputId": "4664ce46-9256-4a4a-e26d-263bae372d5d"
      },
      "execution_count": 50,
      "outputs": [
        {
          "output_type": "execute_result",
          "data": {
            "text/plain": [
              "array([[0.29747759, 0.12373855, 0.54438453],\n",
              "       [0.34583132, 0.09444839, 0.82308965],\n",
              "       [0.16451192, 0.62398954, 0.16336278],\n",
              "       [0.36738683, 0.68211734, 0.16060033]])"
            ]
          },
          "metadata": {},
          "execution_count": 50
        }
      ]
    },
    {
      "cell_type": "code",
      "source": [
        "matrix2.reshape(2,6)"
      ],
      "metadata": {
        "colab": {
          "base_uri": "https://localhost:8080/"
        },
        "id": "cesqPFiMhoyL",
        "outputId": "8b1403b0-bd58-46d0-cc92-a306112718fe"
      },
      "execution_count": 51,
      "outputs": [
        {
          "output_type": "execute_result",
          "data": {
            "text/plain": [
              "array([[0.29747759, 0.12373855, 0.54438453, 0.34583132, 0.09444839,\n",
              "        0.82308965],\n",
              "       [0.16451192, 0.62398954, 0.16336278, 0.36738683, 0.68211734,\n",
              "        0.16060033]])"
            ]
          },
          "metadata": {},
          "execution_count": 51
        }
      ]
    },
    {
      "cell_type": "code",
      "source": [
        "#or we can use -1 to automatically find the dimension"
      ],
      "metadata": {
        "id": "IAEM3bDShuE-"
      },
      "execution_count": null,
      "outputs": []
    },
    {
      "cell_type": "code",
      "source": [
        "matrix2.reshape(6,-1)"
      ],
      "metadata": {
        "colab": {
          "base_uri": "https://localhost:8080/"
        },
        "id": "s52P9Buuh06X",
        "outputId": "832cc7bc-e451-493e-e437-b5927df49f19"
      },
      "execution_count": 52,
      "outputs": [
        {
          "output_type": "execute_result",
          "data": {
            "text/plain": [
              "array([[0.29747759, 0.12373855],\n",
              "       [0.54438453, 0.34583132],\n",
              "       [0.09444839, 0.82308965],\n",
              "       [0.16451192, 0.62398954],\n",
              "       [0.16336278, 0.36738683],\n",
              "       [0.68211734, 0.16060033]])"
            ]
          },
          "metadata": {},
          "execution_count": 52
        }
      ]
    },
    {
      "cell_type": "markdown",
      "source": [
        "3D"
      ],
      "metadata": {
        "id": "iyb7OZ5riB7T"
      }
    },
    {
      "cell_type": "code",
      "source": [
        "ndarr = np.ones((4,3,2)) #4 rows 3 columns 2 channels\n",
        "ndarr = np.zeros((4,5,2))\n",
        "ndarr = np.random.random((4,3,2))\n",
        "ndarr #NumPy’s order for printing n-dimensional arrays is that the last axis is looped over the fastest, while the first is the slowest\n",
        "#so the below is not right!"
      ],
      "metadata": {
        "colab": {
          "base_uri": "https://localhost:8080/"
        },
        "id": "x5Fh8q_niD3_",
        "outputId": "86438f7a-0ae0-4b4f-d977-c69985b92f01"
      },
      "execution_count": 57,
      "outputs": [
        {
          "output_type": "execute_result",
          "data": {
            "text/plain": [
              "array([[[0.25962093, 0.52407858],\n",
              "        [0.70854955, 0.67561877],\n",
              "        [0.26049625, 0.85310416]],\n",
              "\n",
              "       [[0.12265981, 0.02665004],\n",
              "        [0.09084525, 0.5431356 ],\n",
              "        [0.54123407, 0.37586569]],\n",
              "\n",
              "       [[0.09237417, 0.6462324 ],\n",
              "        [0.10442397, 0.20007725],\n",
              "        [0.49107804, 0.21368266]],\n",
              "\n",
              "       [[0.0762178 , 0.257692  ],\n",
              "        [0.49636557, 0.34994136],\n",
              "        [0.01533178, 0.97467286]]])"
            ]
          },
          "metadata": {},
          "execution_count": 57
        }
      ]
    },
    {
      "cell_type": "markdown",
      "source": [
        "Implementing mean squared error"
      ],
      "metadata": {
        "id": "vpST2FB0lexP"
      }
    },
    {
      "cell_type": "markdown",
      "source": [
        "size attribute contains total number of elements"
      ],
      "metadata": {
        "id": "c-4rBlOrmAOi"
      }
    },
    {
      "cell_type": "code",
      "source": [
        "matrix.size"
      ],
      "metadata": {
        "colab": {
          "base_uri": "https://localhost:8080/"
        },
        "id": "8sKUbikNl0uF",
        "outputId": "8758ee9b-b379-408a-9289-e2a7e21c7749"
      },
      "execution_count": 59,
      "outputs": [
        {
          "output_type": "execute_result",
          "data": {
            "text/plain": [
              "12"
            ]
          },
          "metadata": {},
          "execution_count": 59
        }
      ]
    },
    {
      "cell_type": "code",
      "source": [
        "def MSE(predictions,labels):\n",
        "  return (1/(labels.size)*np.sum(np.square(predictions-labels)))\n",
        "pred = np.ones((4,3,2))\n",
        "labels = np.array([1,1,1,0,1,1,1,0,1,0,1,1,1,1,1,1,1,1,1,1,1,1,1,1])\n",
        "labels = labels.reshape(4,3,2)\n",
        "MSE(pred,labels)"
      ],
      "metadata": {
        "colab": {
          "base_uri": "https://localhost:8080/"
        },
        "id": "MVzJxUNxlh7D",
        "outputId": "79b0e71a-29bc-405f-e3c0-7d5e65d05286"
      },
      "execution_count": 70,
      "outputs": [
        {
          "output_type": "execute_result",
          "data": {
            "text/plain": [
              "0.125"
            ]
          },
          "metadata": {},
          "execution_count": 70
        }
      ]
    }
  ]
}